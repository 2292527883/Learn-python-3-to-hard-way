{
 "cells": [
  {
   "cell_type": "markdown",
   "metadata": {},
   "source": [
    "# 那是什么"
   ]
  },
  {
   "cell_type": "markdown",
   "metadata": {},
   "source": [
    "## 转义符号的使用\n",
    "\n",
    "例子: \"I u\"understand\" joe.\"  会把字符串弄错 \n",
    "所以需要把单双引号转义\n",
    "例子:\n",
    "\"I  am 6'2\\\"tall.\" #  \\\" 将\"转义为要打印的字符 不是分隔符\n",
    "' I an 6\\'2\" tall ' "
   ]
  },
  {
   "cell_type": "code",
   "execution_count": 20,
   "metadata": {},
   "outputs": [
    {
     "name": "stdout",
     "output_type": "stream",
     "text": [
      "\n",
      "I'm tabbed in.\n",
      "I'm split \n",
      "On a line\n",
      "I'm \\a\\cat\n",
      " \n",
      "I'll do list\n",
      "\t* catfood\n",
      "\t* fishise\n",
      "\t* Catnip\n",
      "\t*Grass\n",
      "    \n"
     ]
    }
   ],
   "source": [
    "tabby_cat = \"\\nI'm tabbed in.\" # \\t  作用类似于Tab键\n",
    "persian_cat = \"I'm split \\nOn a line\"\n",
    "backslash_cat = \"I'm \\\\a\\\\cat\"\n",
    "fat_cat=\"\"\" \n",
    "I'll do list\n",
    "\\t* catfood\n",
    "\\t* fishise\n",
    "\\t* Catnip\\n\\t*Grass\n",
    "    \"\"\"\n",
    "#  = 变量后面必须要跟三引号吗?  为什么print可以不跟?\n",
    "# 变量后面可以跟\"\"\"  给变量赋值\n",
    "print(tabby_cat)\n",
    "print(persian_cat)\n",
    "print(backslash_cat)\n",
    "print(fat_cat)"
   ]
  },
  {
   "cell_type": "markdown",
   "metadata": {},
   "source": [
    "''' 和\"\"\"是一样的\n",
    "\n",
    "转义序列表在书P32"
   ]
  }
 ],
 "metadata": {
  "kernelspec": {
   "display_name": "Python 3",
   "language": "python",
   "name": "python3"
  },
  "language_info": {
   "codemirror_mode": {
    "name": "ipython",
    "version": 3
   },
   "file_extension": ".py",
   "mimetype": "text/x-python",
   "name": "python",
   "nbconvert_exporter": "python",
   "pygments_lexer": "ipython3",
   "version": "3.7.0"
  }
 },
 "nbformat": 4,
 "nbformat_minor": 2
}
