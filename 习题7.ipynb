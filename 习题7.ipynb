{
 "cells": [
  {
   "cell_type": "markdown",
   "metadata": {},
   "source": [
    "# 更多打印"
   ]
  },
  {
   "cell_type": "code",
   "execution_count": 23,
   "metadata": {},
   "outputs": [
    {
     "name": "stdout",
     "output_type": "stream",
     "text": [
      "Mary had a little lamb\n",
      "Its fleece was white as snow.\n",
      "And everwhere that Mary went.\n",
      " .  .  .  .  .  .  .  .  .  . \n",
      "cheeseBurger"
     ]
    }
   ],
   "source": [
    "print(\"Mary had a little lamb\")\n",
    "print(\"Its fleece was white as {}.\" .format('snow'))\n",
    "print(\"And everwhere that Mary went.\")\n",
    "print(\" . \" * 10) # what' that do?\n",
    "\n",
    "end1 = \"c\"\n",
    "end2 = \"h\"\n",
    "end3 = \"e\"\n",
    "end4 = \"e\"\n",
    "end5 = \"s\"\n",
    "end6 = \"e\"\n",
    "end7 = \"B\"\n",
    "end8 = \"u\"\n",
    "end9 =\"r\"\n",
    "end10 = \"g\"\n",
    "end11 = \"e\"\n",
    "end12 = \"r\"\n",
    "# watch that  comma at the end . try re,pving it to see what happens\n",
    "\n",
    "print(end1 + end2 + end3 + end4 + end5 + end6 , end = '')\n",
    "print(end7 + end8 +end9 + end10 + end11 + end12,end = '')"
   ]
  }
 ],
 "metadata": {
  "kernelspec": {
   "display_name": "Python 3",
   "language": "python",
   "name": "python3"
  },
  "language_info": {
   "codemirror_mode": {
    "name": "ipython",
    "version": 3
   },
   "file_extension": ".py",
   "mimetype": "text/x-python",
   "name": "python",
   "nbconvert_exporter": "python",
   "pygments_lexer": "ipython3",
   "version": "3.7.0"
  }
 },
 "nbformat": 4,
 "nbformat_minor": 2
}
