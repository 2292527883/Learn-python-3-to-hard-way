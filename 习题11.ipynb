{
 "cells": [
  {
   "cell_type": "markdown",
   "metadata": {},
   "source": [
    "# 提问"
   ]
  },
  {
   "cell_type": "code",
   "execution_count": 1,
   "metadata": {},
   "outputs": [
    {
     "name": "stdout",
     "output_type": "stream",
     "text": [
      "How old are you ?666\n",
      "How tall are you?16\n",
      "How much do you weight ?80\n",
      "so,you're  666 old, 16 tall and 80 heavy\n"
     ]
    }
   ],
   "source": [
    "print(\"How old are you ?\",end='') #在句末加end=''   告诉print不要换行\n",
    "age = input()\n",
    "print(\"How tall are you?\",end='')\n",
    "heigh = input()\n",
    "print(\"How much do you weight ?\", end='')\n",
    "weight = input()\n",
    "print(f\"so,you're  {age} old, {heigh} tall and {weight} heavy\")"
   ]
  },
  {
   "cell_type": "code",
   "execution_count": 6,
   "metadata": {},
   "outputs": [
    {
     "name": "stdout",
     "output_type": "stream",
     "text": [
      "153\n",
      "53\n"
     ]
    }
   ],
   "source": [
    "#获取用户输入的数并进行 数学计算\n",
    "x = int(input())#将字符串转为数值\n",
    "print(x-100)"
   ]
  }
 ],
 "metadata": {
  "kernelspec": {
   "display_name": "Python 3",
   "language": "python",
   "name": "python3"
  },
  "language_info": {
   "codemirror_mode": {
    "name": "ipython",
    "version": 3
   },
   "file_extension": ".py",
   "mimetype": "text/x-python",
   "name": "python",
   "nbconvert_exporter": "python",
   "pygments_lexer": "ipython3",
   "version": "3.7.0"
  }
 },
 "nbformat": 4,
 "nbformat_minor": 2
}
