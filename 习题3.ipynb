{
 "cells": [
  {
   "cell_type": "markdown",
   "metadata": {},
   "source": [
    "# 数字和数学计算"
   ]
  },
  {
   "cell_type": "code",
   "execution_count": 5,
   "metadata": {},
   "outputs": [
    {
     "name": "stdout",
     "output_type": "stream",
     "text": [
      "I will Now count mu chickens\n",
      "hens 30.0\n",
      "Roosters 97\n",
      "Now I will cont the eggs:\n",
      "6.75\n",
      "is it true that 3+2<5-7?\n",
      "False\n",
      "what is 3+2? 5\n",
      "wtat is 5-7? -2\n",
      "Oh! that's why is's false.\n",
      "How about some more\n",
      "is it greater? True\n",
      "is it greater or equal ? True\n",
      "is it less or equal？ False\n"
     ]
    }
   ],
   "source": [
    "print(\"I will Now count mu chickens\")\n",
    "print(\"hens\",25+30/6) #打印hens 25+(30/6)的结果\n",
    "print(\"Roosters\",100-25*3%4) # 同上\n",
    "print(\"Now I will cont the eggs:\")\n",
    "print(3+2+1-5+4%2-1/4+6)#  %： 取余\n",
    "print(\"is it true that 3+2<5-7?\")\n",
    "print(3+2<5-7)#比较3+2是否小于5-7 是则ture 不是则false\n",
    "print(\"what is 3+2?\",3+2)\n",
    "print(\"wtat is 5-7?\",5-7)\n",
    "print(\"Oh! that's why is's false.\")\n",
    "print(\"How about some more\")\n",
    "print(\"is it greater?\",5>-2)\n",
    "print(\"is it greater or equal ?\",5>=-2)\n",
    "print(\"is it less or equal？\",5<=-2)\n"
   ]
  }
 ],
 "metadata": {
  "kernelspec": {
   "display_name": "Python 3",
   "language": "python",
   "name": "python3"
  },
  "language_info": {
   "codemirror_mode": {
    "name": "ipython",
    "version": 3
   },
   "file_extension": ".py",
   "mimetype": "text/x-python",
   "name": "python",
   "nbconvert_exporter": "python",
   "pygments_lexer": "ipython3",
   "version": "3.7.0"
  }
 },
 "nbformat": 4,
 "nbformat_minor": 2
}
