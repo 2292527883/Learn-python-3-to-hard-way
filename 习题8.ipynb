{
 "cells": [
  {
   "cell_type": "markdown",
   "metadata": {},
   "source": [
    "# 打印.打印!"
   ]
  },
  {
   "cell_type": "code",
   "execution_count": 25,
   "metadata": {},
   "outputs": [
    {
     "name": "stdout",
     "output_type": "stream",
     "text": [
      "1 2 3 4\n",
      "one two there four\n",
      "True False True False\n",
      "{} {} {} {} {} {} {} {} {} {} {} {} {} {} {} {}\n",
      "Try your Own text here Maybe a poem or a song aboat fear\n"
     ]
    }
   ],
   "source": [
    "formatter = \"{} {} {} {}\"#为formatter初始化空间为4个 并控制格式 如:中间+空格或\\n\n",
    "print(formatter.format(1,2,3,4))#为formatter赋值\n",
    "print(formatter.format(\"one\",\"two\",\"there\",\"four\"))#赋值为字符串 \n",
    "print(formatter.format(True,False,True,False))#赋值为关键字??? 似乎关键字为字符串赋值\n",
    "print(formatter.format(formatter,formatter,formatter,formatter))#自赋值\n",
    "print(formatter.format #字符串之间忘了加, 导致报错tuple index out of range  初步判断为缩进不合理 重新缩进后问题依旧 后检查为无 , 导致字符超出范围\n",
    "                                #证明括号缩进不会影响代码执行\n",
    "      (\n",
    "    \"Try your\",\n",
    "    \"Own text here\",\n",
    "    \"Maybe a poem\",\n",
    "    \"or a song aboat fear\"\n",
    "     )\n",
    "     )"
   ]
  },
  {
   "cell_type": "markdown",
   "metadata": {},
   "source": [
    "## 定义函数:\n",
    "取第一行定义的的formatter字符串\n",
    "调用format函数 相当于执行一个format的命令行命令\n",
    "给format传递4个参数 ,这些参数和formatter变量的{}匹配 相当于传参给format"
   ]
  }
 ],
 "metadata": {
  "kernelspec": {
   "display_name": "Python 3",
   "language": "python",
   "name": "python3"
  },
  "language_info": {
   "codemirror_mode": {
    "name": "ipython",
    "version": 3
   },
   "file_extension": ".py",
   "mimetype": "text/x-python",
   "name": "python",
   "nbconvert_exporter": "python",
   "pygments_lexer": "ipython3",
   "version": "3.7.0"
  }
 },
 "nbformat": 4,
 "nbformat_minor": 2
}
