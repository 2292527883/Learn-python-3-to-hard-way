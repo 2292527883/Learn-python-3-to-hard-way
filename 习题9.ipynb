{
 "cells": [
  {
   "cell_type": "markdown",
   "metadata": {},
   "source": [
    "# 打印 打印 打印"
   ]
  },
  {
   "cell_type": "code",
   "execution_count": 12,
   "metadata": {},
   "outputs": [
    {
     "name": "stdout",
     "output_type": "stream",
     "text": [
      "here are days: Mon Tue Wed The Fri Sat Sun\n",
      "here are the month: \n",
      "Jan\n",
      "Feb\n",
      "Mar\n",
      "Apr\n",
      "May\n",
      "Jun\n",
      "Jul\n",
      "Aug\n",
      "\n",
      "there's something going on here.\n",
      "with the three double-quotes.\n",
      "We'll be able to type as much as we like \n",
      "Even 4 lines if we wangt , or 5, or 6\n",
      "            \n"
     ]
    }
   ],
   "source": [
    "# Here' s some new strange stuff , remember type it exactly\n",
    "days = \"Mon Tue Wed The Fri Sat Sun\"\n",
    "months = \"\\nJan\\nFeb\\nMar\\nApr\\nMay\\nJun\\nJul\\nAug\"  #/n 换行符\n",
    "print(\"here are days:\",days)\n",
    "print(\"here are the month:\",months)\n",
    "print(\n",
    "            \"\"\"\n",
    "there's something going on here.\n",
    "with the three double-quotes.\n",
    "We'll be able to type as much as we like \n",
    "Even 4 lines if we wangt , or 5, or 6\n",
    "            \"\"\"\n",
    "        )"
   ]
  },
  {
   "cell_type": "markdown",
   "metadata": {},
   "source": [
    "print()可以分行写  \n",
    "为什么要三对双引号? 4 行3个双引号 是否说双引号的个数和行数没有联系?\n",
    "分行写打印出的为分行的 不用加换位符  ???为什么\n",
    "\n",
    "\n",
    "习题10 解释 :\n",
    "\"\"\" \"\"\"\n",
    "可以在一组三引号之间放入任意多行文本"
   ]
  }
 ],
 "metadata": {
  "kernelspec": {
   "display_name": "Python 3",
   "language": "python",
   "name": "python3"
  },
  "language_info": {
   "codemirror_mode": {
    "name": "ipython",
    "version": 3
   },
   "file_extension": ".py",
   "mimetype": "text/x-python",
   "name": "python",
   "nbconvert_exporter": "python",
   "pygments_lexer": "ipython3",
   "version": "3.7.0"
  }
 },
 "nbformat": 4,
 "nbformat_minor": 2
}
