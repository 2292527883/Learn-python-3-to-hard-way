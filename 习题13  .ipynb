{
 "cells": [
  {
   "cell_type": "markdown",
   "metadata": {},
   "source": [
    "# 参数.解包和变量"
   ]
  },
  {
   "cell_type": "markdown",
   "metadata": {},
   "source": [
    "\n",
    "这里从Jupyter运行 第一个参数直接为函数 所以不能有三个参数 三个参数: 第一个 :文件名\n",
    "\n",
    "https://blog.csdn.net/lanceyang1992/article/details/46518933\n",
    "\n",
    "https://zhidao.baidu.com/question/1112041784005314339.html 解决这个问题，你首先要理解sys.argv是什么。sys.argv是执行该脚本的命令行参数列表。你在IDLE中执行时，sys.argv只有一个值，就是脚本的名字，所以在执行第三行代码，由四个变更去解包一个值，肯定会报错。解决的办法就是在IDLE调用脚本时，传入参数，但IDLE没有这个功能，所以这个问题是无解的。\n",
    "\n"
   ]
  },
  {
   "cell_type": "code",
   "execution_count": 2,
   "metadata": {},
   "outputs": [
    {
     "name": "stdout",
     "output_type": "stream",
     "text": [
      "<built-in function len>\n",
      "the script is called : C:\\ProgramData\\Anaconda3\\lib\\site-packages\\ipykernel_launcher.py\n",
      "Your first variable is : -f\n",
      "Yousecond variable is : C:\\Users\\Administrator\\AppData\\Roaming\\jupyter\\runtime\\kernel-87384018-0169-476d-81c7-479cd99601f1.json\n"
     ]
    }
   ],
   "source": [
    "from sys import argv#从sys模块 调用 argv 函数  #  argv是原有函数 \n",
    "# read  the wyss section for how to run this\n",
    "script,first,second = argv#不知为何书上可以赋四个变量  但是jupyter只能赋三个 报错:not enough values to unpack (expected 4, got 3)\n",
    "#argv 的作用:将argv的东西取出,解包,将所有的参数依次赋值给左边的变量  不能赋值四个是否因为jupyter运行在服务器上?\n",
    "#运行结果显示为服务器的文件 应该是\n",
    "len(argv)\n",
    "print(len )\n",
    "print(\"the script is called :\" , script)\n",
    "print(\"Your first variable is :\",first)\n",
    "print(\"Yousecond variable is :\",second)\n"
   ]
  },
  {
   "cell_type": "markdown",
   "metadata": {},
   "source": [
    "## 此题暂时揭过 以后在说"
   ]
  }
 ],
 "metadata": {
  "kernelspec": {
   "display_name": "Python 3",
   "language": "python",
   "name": "python3"
  },
  "language_info": {
   "codemirror_mode": {
    "name": "ipython",
    "version": 3
   },
   "file_extension": ".py",
   "mimetype": "text/x-python",
   "name": "python",
   "nbconvert_exporter": "python",
   "pygments_lexer": "ipython3",
   "version": "3.7.0"
  }
 },
 "nbformat": 4,
 "nbformat_minor": 2
}
