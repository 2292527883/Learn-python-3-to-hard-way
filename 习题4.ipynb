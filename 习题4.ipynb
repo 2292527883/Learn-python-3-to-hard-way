{
 "cells": [
  {
   "cell_type": "markdown",
   "metadata": {},
   "source": [
    "# 变量和命名"
   ]
  },
  {
   "cell_type": "code",
   "execution_count": 33,
   "metadata": {},
   "outputs": [
    {
     "name": "stdout",
     "output_type": "stream",
     "text": [
      "there are 100 car available\n",
      "there are only 30 drivers available\n",
      "there will be 70 empty cars today\n",
      "we can transport 120.0 people today\n",
      "we have 90 to carpool today\n",
      "we need to put about 3.0 in each car\n"
     ]
    }
   ],
   "source": [
    "cars=100 #100辆车\n",
    "space_in_a_car=4.0 #车的容量为4 用整数多好？ 一车能坐4个半人么？\n",
    "drivers=30 #司机有30个\n",
    "passengers=90 #乘客有90个\n",
    "cars_not_driven=cars-drivers #不开车的=车-司机\n",
    "cars_driven=drivers #车的司机=司机\n",
    "carpool_capacity=cars_driven*space_in_a_car\n",
    "average_passengers_per_car=passengers/cars_driven\n",
    "#懒得翻译 什么JB变量\n",
    "print(\"there are\",cars,\"car available\")\n",
    "print(\"there are only\",drivers,\"drivers available\")\n",
    "print(\"there will be\",car_not_driven,\"empty cars today\")\n",
    "print(\"we can transport\",carpool_capacity,\"people today\")\n",
    "print(\"we have\",passengers,\"to carpool today\")\n",
    "print(\"we need to put about\",average_passengers_per_car,\"in each car\")\n"
   ]
  }
 ],
 "metadata": {
  "kernelspec": {
   "display_name": "Python 3",
   "language": "python",
   "name": "python3"
  },
  "language_info": {
   "codemirror_mode": {
    "name": "ipython",
    "version": 3
   },
   "file_extension": ".py",
   "mimetype": "text/x-python",
   "name": "python",
   "nbconvert_exporter": "python",
   "pygments_lexer": "ipython3",
   "version": "3.7.0"
  }
 },
 "nbformat": 4,
 "nbformat_minor": 2
}
