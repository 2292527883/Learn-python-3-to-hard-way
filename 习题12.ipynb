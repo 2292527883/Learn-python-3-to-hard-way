{
 "cells": [
  {
   "cell_type": "markdown",
   "metadata": {},
   "source": [
    "# 提示别人"
   ]
  },
  {
   "cell_type": "code",
   "execution_count": 5,
   "metadata": {},
   "outputs": [
    {
     "name": "stdout",
     "output_type": "stream",
     "text": [
      "How old are you ?asd1a3 \n",
      "How tall are you?sd5wda1 a\n",
      "How much do you weigh aw1d5w \n",
      "so,you are asd1a3  year, sd5wda1 a tall and  aw1d5w  heavy\n"
     ]
    }
   ],
   "source": [
    "age = input(\"How old are you ?\") #简写习题12\n",
    "height = input(\"How tall are you?\")\n",
    "weight = input(\"How much do you weigh\")\n",
    "print(f\"so,you are {age} year, {height} tall and {weight} heavy\")"
   ]
  },
  {
   "cell_type": "markdown",
   "metadata": {},
   "source": [
    "pydoc input\n",
    "生成文档  jupyter不可用...\n"
   ]
  }
 ],
 "metadata": {
  "kernelspec": {
   "display_name": "Python 3",
   "language": "python",
   "name": "python3"
  },
  "language_info": {
   "codemirror_mode": {
    "name": "ipython",
    "version": 3
   },
   "file_extension": ".py",
   "mimetype": "text/x-python",
   "name": "python",
   "nbconvert_exporter": "python",
   "pygments_lexer": "ipython3",
   "version": "3.7.0"
  }
 },
 "nbformat": 4,
 "nbformat_minor": 2
}
