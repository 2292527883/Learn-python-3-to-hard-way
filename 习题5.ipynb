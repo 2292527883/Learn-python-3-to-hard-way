{
 "cells": [
  {
   "cell_type": "markdown",
   "metadata": {},
   "source": [
    "# 更多的变量和打印"
   ]
  },
  {
   "cell_type": "markdown",
   "metadata": {},
   "source": [
    "这次使用格式化字符串\n",
    "f 是格式化（format）的意思 例如：f\"hello{somevar}\"\n"
   ]
  },
  {
   "cell_type": "code",
   "execution_count": 17,
   "metadata": {},
   "outputs": [
    {
     "name": "stdout",
     "output_type": "stream",
     "text": [
      "let's talk about zed A.Shaw.\n",
      "he's 183 inches tall\n",
      "he's 140 pound heavy\n",
      "Actually that's not too heavy\n",
      "he's got bule eyes and brown hair.\n",
      "his teeth are usually white depending on the coffee\n",
      "If I add 17 ,183 ,and 140 I get 340\n"
     ]
    }
   ],
   "source": [
    "my_name='zed A.Shaw'\n",
    "my_age=17#not a lie\n",
    "my_height=183# mm emmmm....\n",
    "my_weight=140#kg??\n",
    "my_eyes='bule'\n",
    "my_teeth='white'\n",
    "my_hair='brown'\n",
    "\n",
    "print(f\"let's talk about {my_name}.\")\n",
    "print(f\"he's {my_height} inches tall\")\n",
    "print(f\"he's {my_weight} pound heavy\")\n",
    "print(\"Actually that's not too heavy\")\n",
    "print(f\"he's got {my_eyes} eyes and {my_hair} hair.\")\n",
    "print(f\"his teeth are usually {my_teeth} depending on the coffee\")\n",
    "total=my_age+my_height+my_weight\n",
    "print(f\"If I add {my_age} ,{my_height} ,and {my_weight} I get {total}\")"
   ]
  }
 ],
 "metadata": {
  "kernelspec": {
   "display_name": "Python 3",
   "language": "python",
   "name": "python3"
  },
  "language_info": {
   "codemirror_mode": {
    "name": "ipython",
    "version": 3
   },
   "file_extension": ".py",
   "mimetype": "text/x-python",
   "name": "python",
   "nbconvert_exporter": "python",
   "pygments_lexer": "ipython3",
   "version": "3.7.0"
  }
 },
 "nbformat": 4,
 "nbformat_minor": 2
}
