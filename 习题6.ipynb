{
 "cells": [
  {
   "cell_type": "markdown",
   "metadata": {},
   "source": [
    "# 字符串和文本"
   ]
  },
  {
   "cell_type": "markdown",
   "metadata": {},
   "source": [
    "  .fromat()函数的使用  \n",
    "  练习使用简写的函数名\n",
    " "
   ]
  },
  {
   "cell_type": "code",
   "execution_count": 19,
   "metadata": {},
   "outputs": [
    {
     "name": "stdout",
     "output_type": "stream",
     "text": [
      "There are 10 types of people.\n",
      "those who know binary and those who don't .\n",
      "I said : There are 10 types of people.\n",
      "I also sadi :' those who know binary and those who don't .' \n",
      "Isn't that joke so funny?! False\n",
      "this is the left side of ....a string witha right side\n"
     ]
    }
   ],
   "source": [
    "types_of_people = 10\n",
    "x = f\"There are {types_of_people} types of people.\"\n",
    "binary=\"binary\"\n",
    "do_not=\"don't\"\n",
    "y = f\"those who know {binary} and those who {do_not} .\"\n",
    "print(x)\n",
    "print(y)\n",
    "print(f\"I said : {x}\" )\n",
    "print(f\"I also sadi :' {y}' \")\n",
    "\n",
    "hilarious = False\n",
    "joke_evaluation =\"Isn't that joke so funny?! {}\" # {}的作用为占位  中间不能有空格 //为format（）占位\n",
    "\n",
    "print(joke_evaluation .format(hilarious) )\n",
    "w = \"this is the left side of ....\"\n",
    "e = \"a string witha right side\"\n",
    "print (w+e)"
   ]
  }
 ],
 "metadata": {
  "kernelspec": {
   "display_name": "Python 3",
   "language": "python",
   "name": "python3"
  },
  "language_info": {
   "codemirror_mode": {
    "name": "ipython",
    "version": 3
   },
   "file_extension": ".py",
   "mimetype": "text/x-python",
   "name": "python",
   "nbconvert_exporter": "python",
   "pygments_lexer": "ipython3",
   "version": "3.7.0"
  }
 },
 "nbformat": 4,
 "nbformat_minor": 2
}
