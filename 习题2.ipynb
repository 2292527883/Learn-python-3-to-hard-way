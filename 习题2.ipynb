  {
 "cells": [
  {
   "cell_type": "markdown",
   "metadata": {},
   "source": [
    "# 注释和#号"
   ]
  },
  {
   "cell_type": "code",
   "execution_count": 1,
   "metadata": {},
   "outputs": [
    {
     "name": "stdout",
     "output_type": "stream",
     "text": [
      "I could have code like this .\n",
      "this will run\n"
     ]
    }
   ],
   "source": [
    "#  A commmen , this is so you can read your orogram later\n",
    "# Anything  after the # is ignored by python \n",
    "print(\"I could have code like this .\")# and the comment after is igored\n",
    "# You can  also use a comment to \"disable\" or comment out code\n",
    "# print (\"this won't run\")\n",
    "print(\"this will run\")"
   ]
  }
 ],
 "metadata": {
  "kernelspec": {
   "display_name": "Python 3",
   "language": "python",
   "name": "python3"
  },
  "language_info": {
   "codemirror_mode": {
    "name": "ipython",
    "version": 3
   },
   "file_extension": ".py",
   "mimetype": "text/x-python",
   "name": "python",
   "nbconvert_exporter": "python",
   "pygments_lexer": "ipython3",
   "version": "3.7.0"
  }
 },
 "nbformat": 4,
 "nbformat_minor": 2
}
