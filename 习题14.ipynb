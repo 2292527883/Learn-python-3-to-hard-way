{
 "cells": [
  {
   "cell_type": "markdown",
   "metadata": {},
   "source": [
    "# 提示和传递"
   ]
  },
  {
   "cell_type": "code",
   "execution_count": 68,
   "metadata": {},
   "outputs": [
    {
     "name": "stdout",
     "output_type": "stream",
     "text": [
      "Hi  -f , I'm the C:\\ProgramData\\Anaconda3\\lib\\site-packages\\ipykernel_launcher.py script\n",
      "I'd like to ask you a few questions.\n",
      "Do you like me -f ?\n",
      "    \n",
      ">yes \n",
      "Where do you live -f ?\n",
      ">computer\n",
      "What kond of computer do you have ?\n",
      ">home\n",
      "\n",
      "Alright , so you said yes  about liking me.\n",
      "You live in computer . not sure where that is \n",
      "And you have a home computer . nice\n",
      "        \n"
     ]
    }
   ],
   "source": [
    "from sys import argv\n",
    "script,  user_name,wtf = argv  #书上为两个参数    \n",
    "prompt = '>'\n",
    "\n",
    "print(\n",
    "    f\"\"\"Hi  {user_name} , I'm the {script} script\n",
    "I'd like to ask you a few questions.\n",
    "Do you like me {user_name} ?\n",
    "    \"\"\")\n",
    "likes = input(prompt)\n",
    "print(f\"Where do you live {user_name} ?\")\n",
    "lives = input(prompt)\n",
    "print(\"What kond of computer do you have ?\")\n",
    "computer = input(prompt)\n",
    "\n",
    "print(f\"\"\"\n",
    "Alright , so you said {likes} about liking me.\n",
    "You live in {lives} . not sure where that is \n",
    "And you have a {computer} computer . nice\n",
    "        \"\"\")"
   ]
  },
  {
   "cell_type": "markdown",
   "metadata": {},
   "source": [
    "argv 书上为两个参数的原因可能是从命令行运行\n",
    "第一个参数为文件名\n",
    "\n",
    "这里从Jupyter运行 第一个参数直接为函数\n",
    "所以不能有三个参数 \n",
    "三个参数:\n",
    "第一个 :文件名\n",
    "\n",
    "\n",
    "https://blog.csdn.net/lanceyang1992/article/details/46518933\n",
    "\n",
    "https://zhidao.baidu.com/question/1112041784005314339.html\n",
    "解决这个问题，你首先要理解sys.argv是什么。sys.argv是执行该脚本的命令行参数列表。你在IDLE中执行时，sys.argv只有一个值，就是脚本的名字，所以在执行第三行代码，由四个变更去解包一个值，肯定会报错。解决的办法就是在IDLE调用脚本时，传入参数，但IDLE没有这个功能，所以这个问题是无解的。"
   ]
  }
 ],
 "metadata": {
  "kernelspec": {
   "display_name": "Python 3",
   "language": "python",
   "name": "python3"
  },
  "language_info": {
   "codemirror_mode": {
    "name": "ipython",
    "version": 3
   },
   "file_extension": ".py",
   "mimetype": "text/x-python",
   "name": "python",
   "nbconvert_exporter": "python",
   "pygments_lexer": "ipython3",
   "version": "3.7.0"
  }
 },
 "nbformat": 4,
 "nbformat_minor": 2
}
